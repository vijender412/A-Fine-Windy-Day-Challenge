{
  "nbformat": 4,
  "nbformat_minor": 0,
  "metadata": {
    "colab": {
      "name": "Welcome To Colaboratory",
      "provenance": [],
      "collapsed_sections": [],
      "toc_visible": true
    },
    "kernelspec": {
      "display_name": "Python 3",
      "name": "python3"
    },
    "accelerator": "GPU"
  },
  "cells": [
    {
      "cell_type": "markdown",
      "metadata": {
        "id": "bkjafGGZ-EcV"
      },
      "source": [
        "# A Fine Windy Day Challenge: HackerEarth Machine Learning Challenge\n",
        "\n",
        "Task: To predict power that is generated based on other features available"
      ]
    },
    {
      "cell_type": "markdown",
      "metadata": {
        "id": "ysQbwnVrFT0Q"
      },
      "source": [
        "#### Downloading Dataset and unzipping"
      ]
    },
    {
      "cell_type": "code",
      "metadata": {
        "colab": {
          "base_uri": "https://localhost:8080/"
        },
        "id": "uxrjuLLDk087",
        "outputId": "c6a22976-d787-4446-c994-58d2e8247ae4"
      },
      "source": [
        "!unzip 949ca43ea68511eb.zip"
      ],
      "execution_count": 6,
      "outputs": [
        {
          "output_type": "stream",
          "text": [
            "Archive:  949ca43ea68511eb.zip\n",
            "   creating: dataset/\n",
            "  inflating: dataset/train.csv       \n",
            "  inflating: dataset/sample_submission.csv  \n",
            "  inflating: dataset/test.csv        \n"
          ],
          "name": "stdout"
        }
      ]
    },
    {
      "cell_type": "markdown",
      "metadata": {
        "id": "-kWaWUzrFZR4"
      },
      "source": [
        "#### Install necessary packages"
      ]
    },
    {
      "cell_type": "code",
      "metadata": {
        "id": "xvDshovFk1Ag"
      },
      "source": [
        "# Use seaborn for pairplot\n",
        "!pip install -q seaborn"
      ],
      "execution_count": 7,
      "outputs": []
    },
    {
      "cell_type": "markdown",
      "metadata": {
        "id": "6wGGwJQQFgCC"
      },
      "source": [
        "#### Importing necessary packages"
      ]
    },
    {
      "cell_type": "code",
      "metadata": {
        "colab": {
          "base_uri": "https://localhost:8080/"
        },
        "id": "HNzXFnnKk1Eo",
        "outputId": "fdcb0aa3-c8ab-467f-8321-5da8c47a359a"
      },
      "source": [
        "import matplotlib.pyplot as plt\n",
        "import numpy as np\n",
        "import pandas as pd\n",
        "import seaborn as sns\n",
        "\n",
        "import sklearn\n",
        "import tensorflow as tf\n",
        "from tensorflow.keras.layers.experimental import preprocessing\n",
        "\n",
        "print(tf.__version__)"
      ],
      "execution_count": 8,
      "outputs": [
        {
          "output_type": "stream",
          "text": [
            "2.5.0\n"
          ],
          "name": "stdout"
        }
      ]
    },
    {
      "cell_type": "markdown",
      "metadata": {
        "id": "85kCdJPiFkYG"
      },
      "source": [
        "#### Util functions"
      ]
    },
    {
      "cell_type": "code",
      "metadata": {
        "id": "JIav64E09Z6A"
      },
      "source": [
        "# Util Functions\n",
        "def plot_loss(history):\n",
        "  plt.plot(history.history['loss'], label='loss')\n",
        "  plt.plot(history.history['val_loss'], label='val_loss')\n",
        "  plt.ylim([0, 10])\n",
        "  plt.xlabel('Epoch')\n",
        "  plt.ylabel('Error ')\n",
        "  plt.legend()\n",
        "  plt.grid(True)"
      ],
      "execution_count": 9,
      "outputs": []
    },
    {
      "cell_type": "markdown",
      "metadata": {
        "id": "YltMEsvYFnRY"
      },
      "source": [
        "#### Importing datasets"
      ]
    },
    {
      "cell_type": "code",
      "metadata": {
        "colab": {
          "base_uri": "https://localhost:8080/",
          "height": 411
        },
        "id": "YhyGuRH5k1Il",
        "outputId": "5e1a55a8-1c34-48cb-be77-04103ffee3e1"
      },
      "source": [
        "train_df = pd.read_csv('dataset/train.csv')\n",
        "test_df = pd.read_csv('dataset/test.csv')\n",
        "submission_df = pd.read_csv('dataset/sample_submission.csv')\n",
        "train_df.head()"
      ],
      "execution_count": 10,
      "outputs": [
        {
          "output_type": "execute_result",
          "data": {
            "text/html": [
              "<div>\n",
              "<style scoped>\n",
              "    .dataframe tbody tr th:only-of-type {\n",
              "        vertical-align: middle;\n",
              "    }\n",
              "\n",
              "    .dataframe tbody tr th {\n",
              "        vertical-align: top;\n",
              "    }\n",
              "\n",
              "    .dataframe thead th {\n",
              "        text-align: right;\n",
              "    }\n",
              "</style>\n",
              "<table border=\"1\" class=\"dataframe\">\n",
              "  <thead>\n",
              "    <tr style=\"text-align: right;\">\n",
              "      <th></th>\n",
              "      <th>tracking_id</th>\n",
              "      <th>datetime</th>\n",
              "      <th>wind_speed(m/s)</th>\n",
              "      <th>atmospheric_temperature(°C)</th>\n",
              "      <th>shaft_temperature(°C)</th>\n",
              "      <th>blades_angle(°)</th>\n",
              "      <th>gearbox_temperature(°C)</th>\n",
              "      <th>engine_temperature(°C)</th>\n",
              "      <th>motor_torque(N-m)</th>\n",
              "      <th>generator_temperature(°C)</th>\n",
              "      <th>atmospheric_pressure(Pascal)</th>\n",
              "      <th>area_temperature(°C)</th>\n",
              "      <th>windmill_body_temperature(°C)</th>\n",
              "      <th>wind_direction(°)</th>\n",
              "      <th>resistance(ohm)</th>\n",
              "      <th>rotor_torque(N-m)</th>\n",
              "      <th>turbine_status</th>\n",
              "      <th>cloud_level</th>\n",
              "      <th>blade_length(m)</th>\n",
              "      <th>blade_breadth(m)</th>\n",
              "      <th>windmill_height(m)</th>\n",
              "      <th>windmill_generated_power(kW/h)</th>\n",
              "    </tr>\n",
              "  </thead>\n",
              "  <tbody>\n",
              "    <tr>\n",
              "      <th>0</th>\n",
              "      <td>WM_33725</td>\n",
              "      <td>2019-08-04 14:33:20</td>\n",
              "      <td>94.820023</td>\n",
              "      <td>-99.000000</td>\n",
              "      <td>41.723019</td>\n",
              "      <td>-0.903423</td>\n",
              "      <td>82.410573</td>\n",
              "      <td>42.523015</td>\n",
              "      <td>2563.124522</td>\n",
              "      <td>76.665560</td>\n",
              "      <td>103402.961872</td>\n",
              "      <td>26.897875</td>\n",
              "      <td>NaN</td>\n",
              "      <td>239.836388</td>\n",
              "      <td>2730.310605</td>\n",
              "      <td>42.084666</td>\n",
              "      <td>BA</td>\n",
              "      <td>Medium</td>\n",
              "      <td>2.217542</td>\n",
              "      <td>0.314065</td>\n",
              "      <td>24.281689</td>\n",
              "      <td>6.766521</td>\n",
              "    </tr>\n",
              "    <tr>\n",
              "      <th>1</th>\n",
              "      <td>WM_698</td>\n",
              "      <td>2018-11-05 10:13:20</td>\n",
              "      <td>241.832734</td>\n",
              "      <td>27.764785</td>\n",
              "      <td>-99.000000</td>\n",
              "      <td>-99.000000</td>\n",
              "      <td>44.104919</td>\n",
              "      <td>46.258870</td>\n",
              "      <td>2372.384119</td>\n",
              "      <td>78.129803</td>\n",
              "      <td>17030.904078</td>\n",
              "      <td>39.801469</td>\n",
              "      <td>NaN</td>\n",
              "      <td>337.944723</td>\n",
              "      <td>1780.207200</td>\n",
              "      <td>107.888643</td>\n",
              "      <td>A2</td>\n",
              "      <td>Medium</td>\n",
              "      <td>4.210346</td>\n",
              "      <td>0.448494</td>\n",
              "      <td>27.262139</td>\n",
              "      <td>5.966275</td>\n",
              "    </tr>\n",
              "    <tr>\n",
              "      <th>2</th>\n",
              "      <td>WM_39146</td>\n",
              "      <td>2019-09-14 14:03:20</td>\n",
              "      <td>95.484724</td>\n",
              "      <td>NaN</td>\n",
              "      <td>41.855473</td>\n",
              "      <td>12.652763</td>\n",
              "      <td>42.322098</td>\n",
              "      <td>42.878552</td>\n",
              "      <td>1657.169646</td>\n",
              "      <td>67.654469</td>\n",
              "      <td>16125.927107</td>\n",
              "      <td>36.116065</td>\n",
              "      <td>45.033197</td>\n",
              "      <td>227.850294</td>\n",
              "      <td>1666.049900</td>\n",
              "      <td>-42.931459</td>\n",
              "      <td>ABC</td>\n",
              "      <td>Medium</td>\n",
              "      <td>2.719475</td>\n",
              "      <td>0.302321</td>\n",
              "      <td>27.366127</td>\n",
              "      <td>2.874342</td>\n",
              "    </tr>\n",
              "    <tr>\n",
              "      <th>3</th>\n",
              "      <td>WM_6757</td>\n",
              "      <td>2018-12-25 15:33:20</td>\n",
              "      <td>238.819424</td>\n",
              "      <td>-99.000000</td>\n",
              "      <td>45.443914</td>\n",
              "      <td>15.115323</td>\n",
              "      <td>44.759643</td>\n",
              "      <td>47.282101</td>\n",
              "      <td>2888.134079</td>\n",
              "      <td>95.389974</td>\n",
              "      <td>18689.732336</td>\n",
              "      <td>46.020045</td>\n",
              "      <td>44.827154</td>\n",
              "      <td>492.081520</td>\n",
              "      <td>1964.502895</td>\n",
              "      <td>42.744596</td>\n",
              "      <td>ABC</td>\n",
              "      <td>NaN</td>\n",
              "      <td>4.857385</td>\n",
              "      <td>0.367140</td>\n",
              "      <td>24.287767</td>\n",
              "      <td>14.851089</td>\n",
              "    </tr>\n",
              "    <tr>\n",
              "      <th>4</th>\n",
              "      <td>WM_21521</td>\n",
              "      <td>2019-05-04 03:13:20</td>\n",
              "      <td>10.722890</td>\n",
              "      <td>NaN</td>\n",
              "      <td>41.981183</td>\n",
              "      <td>1.715696</td>\n",
              "      <td>-17.616459</td>\n",
              "      <td>43.469852</td>\n",
              "      <td>781.695419</td>\n",
              "      <td>37.423065</td>\n",
              "      <td>114468.169007</td>\n",
              "      <td>34.572941</td>\n",
              "      <td>-99.000000</td>\n",
              "      <td>259.274601</td>\n",
              "      <td>1177.516152</td>\n",
              "      <td>13.387289</td>\n",
              "      <td>AAA</td>\n",
              "      <td>Medium</td>\n",
              "      <td>NaN</td>\n",
              "      <td>0.453374</td>\n",
              "      <td>27.971650</td>\n",
              "      <td>3.519074</td>\n",
              "    </tr>\n",
              "  </tbody>\n",
              "</table>\n",
              "</div>"
            ],
            "text/plain": [
              "  tracking_id  ... windmill_generated_power(kW/h)\n",
              "0    WM_33725  ...                       6.766521\n",
              "1      WM_698  ...                       5.966275\n",
              "2    WM_39146  ...                       2.874342\n",
              "3     WM_6757  ...                      14.851089\n",
              "4    WM_21521  ...                       3.519074\n",
              "\n",
              "[5 rows x 22 columns]"
            ]
          },
          "metadata": {
            "tags": []
          },
          "execution_count": 10
        }
      ]
    },
    {
      "cell_type": "markdown",
      "metadata": {
        "id": "FfX2fQU8FrG3"
      },
      "source": [
        "#### EDA of Dataset"
      ]
    },
    {
      "cell_type": "code",
      "metadata": {
        "colab": {
          "base_uri": "https://localhost:8080/",
          "height": 411
        },
        "id": "3piyzs2DsdL_",
        "outputId": "ea34e0fe-94db-4367-827d-090063f2d856"
      },
      "source": [
        "test_df.head()"
      ],
      "execution_count": 11,
      "outputs": [
        {
          "output_type": "execute_result",
          "data": {
            "text/html": [
              "<div>\n",
              "<style scoped>\n",
              "    .dataframe tbody tr th:only-of-type {\n",
              "        vertical-align: middle;\n",
              "    }\n",
              "\n",
              "    .dataframe tbody tr th {\n",
              "        vertical-align: top;\n",
              "    }\n",
              "\n",
              "    .dataframe thead th {\n",
              "        text-align: right;\n",
              "    }\n",
              "</style>\n",
              "<table border=\"1\" class=\"dataframe\">\n",
              "  <thead>\n",
              "    <tr style=\"text-align: right;\">\n",
              "      <th></th>\n",
              "      <th>tracking_id</th>\n",
              "      <th>datetime</th>\n",
              "      <th>wind_speed(m/s)</th>\n",
              "      <th>atmospheric_temperature(°C)</th>\n",
              "      <th>shaft_temperature(°C)</th>\n",
              "      <th>blades_angle(°)</th>\n",
              "      <th>gearbox_temperature(°C)</th>\n",
              "      <th>engine_temperature(°C)</th>\n",
              "      <th>motor_torque(N-m)</th>\n",
              "      <th>generator_temperature(°C)</th>\n",
              "      <th>atmospheric_pressure(Pascal)</th>\n",
              "      <th>area_temperature(°C)</th>\n",
              "      <th>windmill_body_temperature(°C)</th>\n",
              "      <th>wind_direction(°)</th>\n",
              "      <th>resistance(ohm)</th>\n",
              "      <th>rotor_torque(N-m)</th>\n",
              "      <th>turbine_status</th>\n",
              "      <th>cloud_level</th>\n",
              "      <th>blade_length(m)</th>\n",
              "      <th>blade_breadth(m)</th>\n",
              "      <th>windmill_height(m)</th>\n",
              "    </tr>\n",
              "  </thead>\n",
              "  <tbody>\n",
              "    <tr>\n",
              "      <th>0</th>\n",
              "      <td>WM_19817</td>\n",
              "      <td>2019-04-17 08:53:20</td>\n",
              "      <td>94.324266</td>\n",
              "      <td>17.641186</td>\n",
              "      <td>89.714193</td>\n",
              "      <td>51.146788</td>\n",
              "      <td>40.460560</td>\n",
              "      <td>39.594734</td>\n",
              "      <td>1073.202715</td>\n",
              "      <td>66.830037</td>\n",
              "      <td>16681.044117</td>\n",
              "      <td>24.004812</td>\n",
              "      <td>43.756693</td>\n",
              "      <td>445.976992</td>\n",
              "      <td>1664.222023</td>\n",
              "      <td>21.912243</td>\n",
              "      <td>BA</td>\n",
              "      <td>Medium</td>\n",
              "      <td>3.185837</td>\n",
              "      <td>0.403965</td>\n",
              "      <td>25.572431</td>\n",
              "    </tr>\n",
              "    <tr>\n",
              "      <th>1</th>\n",
              "      <td>WM_18723</td>\n",
              "      <td>2019-03-30 07:43:20</td>\n",
              "      <td>10.088870</td>\n",
              "      <td>13.978119</td>\n",
              "      <td>43.272846</td>\n",
              "      <td>46.516394</td>\n",
              "      <td>40.027788</td>\n",
              "      <td>41.176860</td>\n",
              "      <td>517.436430</td>\n",
              "      <td>37.284163</td>\n",
              "      <td>NaN</td>\n",
              "      <td>29.431813</td>\n",
              "      <td>42.728174</td>\n",
              "      <td>499.595287</td>\n",
              "      <td>1165.111992</td>\n",
              "      <td>-35.050093</td>\n",
              "      <td>A</td>\n",
              "      <td>Medium</td>\n",
              "      <td>3.016603</td>\n",
              "      <td>0.444755</td>\n",
              "      <td>24.371823</td>\n",
              "    </tr>\n",
              "    <tr>\n",
              "      <th>2</th>\n",
              "      <td>WM_34552</td>\n",
              "      <td>2019-08-10 11:33:20</td>\n",
              "      <td>347.152090</td>\n",
              "      <td>31.423035</td>\n",
              "      <td>41.076640</td>\n",
              "      <td>26.931602</td>\n",
              "      <td>43.109122</td>\n",
              "      <td>43.439556</td>\n",
              "      <td>1480.716492</td>\n",
              "      <td>70.010762</td>\n",
              "      <td>214812.836175</td>\n",
              "      <td>29.924235</td>\n",
              "      <td>43.256122</td>\n",
              "      <td>245.432231</td>\n",
              "      <td>1667.720491</td>\n",
              "      <td>27.195302</td>\n",
              "      <td>B2</td>\n",
              "      <td>Medium</td>\n",
              "      <td>2.611941</td>\n",
              "      <td>0.387368</td>\n",
              "      <td>27.654677</td>\n",
              "    </tr>\n",
              "    <tr>\n",
              "      <th>3</th>\n",
              "      <td>WM_28570</td>\n",
              "      <td>2019-06-26 03:53:20</td>\n",
              "      <td>24.471997</td>\n",
              "      <td>-99.000000</td>\n",
              "      <td>14.375078</td>\n",
              "      <td>66.513953</td>\n",
              "      <td>13.741253</td>\n",
              "      <td>15.577472</td>\n",
              "      <td>887.979475</td>\n",
              "      <td>41.445258</td>\n",
              "      <td>NaN</td>\n",
              "      <td>23.886434</td>\n",
              "      <td>13.501595</td>\n",
              "      <td>NaN</td>\n",
              "      <td>1329.744740</td>\n",
              "      <td>15.245757</td>\n",
              "      <td>BBB</td>\n",
              "      <td>Low</td>\n",
              "      <td>2.866805</td>\n",
              "      <td>0.450478</td>\n",
              "      <td>24.189426</td>\n",
              "    </tr>\n",
              "    <tr>\n",
              "      <th>4</th>\n",
              "      <td>WM_36934</td>\n",
              "      <td>2019-08-27 16:43:20</td>\n",
              "      <td>96.997026</td>\n",
              "      <td>33.281836</td>\n",
              "      <td>41.405192</td>\n",
              "      <td>1.843112</td>\n",
              "      <td>121.572907</td>\n",
              "      <td>43.934587</td>\n",
              "      <td>2053.916354</td>\n",
              "      <td>68.007787</td>\n",
              "      <td>16833.546517</td>\n",
              "      <td>35.906889</td>\n",
              "      <td>-99.000000</td>\n",
              "      <td>442.425744</td>\n",
              "      <td>691.408996</td>\n",
              "      <td>34.257024</td>\n",
              "      <td>A</td>\n",
              "      <td>Low</td>\n",
              "      <td>3.549672</td>\n",
              "      <td>0.368355</td>\n",
              "      <td>4.885440</td>\n",
              "    </tr>\n",
              "  </tbody>\n",
              "</table>\n",
              "</div>"
            ],
            "text/plain": [
              "  tracking_id             datetime  ...  blade_breadth(m)  windmill_height(m)\n",
              "0    WM_19817  2019-04-17 08:53:20  ...          0.403965           25.572431\n",
              "1    WM_18723  2019-03-30 07:43:20  ...          0.444755           24.371823\n",
              "2    WM_34552  2019-08-10 11:33:20  ...          0.387368           27.654677\n",
              "3    WM_28570  2019-06-26 03:53:20  ...          0.450478           24.189426\n",
              "4    WM_36934  2019-08-27 16:43:20  ...          0.368355            4.885440\n",
              "\n",
              "[5 rows x 21 columns]"
            ]
          },
          "metadata": {
            "tags": []
          },
          "execution_count": 11
        }
      ]
    },
    {
      "cell_type": "code",
      "metadata": {
        "colab": {
          "base_uri": "https://localhost:8080/",
          "height": 204
        },
        "id": "whTFP2xhs3rb",
        "outputId": "9b321c54-1792-475e-bef8-b41b4ce74181"
      },
      "source": [
        "submission_df.head()"
      ],
      "execution_count": 12,
      "outputs": [
        {
          "output_type": "execute_result",
          "data": {
            "text/html": [
              "<div>\n",
              "<style scoped>\n",
              "    .dataframe tbody tr th:only-of-type {\n",
              "        vertical-align: middle;\n",
              "    }\n",
              "\n",
              "    .dataframe tbody tr th {\n",
              "        vertical-align: top;\n",
              "    }\n",
              "\n",
              "    .dataframe thead th {\n",
              "        text-align: right;\n",
              "    }\n",
              "</style>\n",
              "<table border=\"1\" class=\"dataframe\">\n",
              "  <thead>\n",
              "    <tr style=\"text-align: right;\">\n",
              "      <th></th>\n",
              "      <th>tracking_id</th>\n",
              "      <th>datetime</th>\n",
              "      <th>windmill_generated_power(kW/h)</th>\n",
              "    </tr>\n",
              "  </thead>\n",
              "  <tbody>\n",
              "    <tr>\n",
              "      <th>0</th>\n",
              "      <td>WM_33725</td>\n",
              "      <td>2019-08-04 14:33:20</td>\n",
              "      <td>6.766521</td>\n",
              "    </tr>\n",
              "    <tr>\n",
              "      <th>1</th>\n",
              "      <td>WM_698</td>\n",
              "      <td>2018-11-05 10:13:20</td>\n",
              "      <td>5.966275</td>\n",
              "    </tr>\n",
              "    <tr>\n",
              "      <th>2</th>\n",
              "      <td>WM_39146</td>\n",
              "      <td>2019-09-14 14:03:20</td>\n",
              "      <td>2.874342</td>\n",
              "    </tr>\n",
              "    <tr>\n",
              "      <th>3</th>\n",
              "      <td>WM_6757</td>\n",
              "      <td>2018-12-25 15:33:20</td>\n",
              "      <td>14.851089</td>\n",
              "    </tr>\n",
              "    <tr>\n",
              "      <th>4</th>\n",
              "      <td>WM_21521</td>\n",
              "      <td>2019-05-04 03:13:20</td>\n",
              "      <td>3.519074</td>\n",
              "    </tr>\n",
              "  </tbody>\n",
              "</table>\n",
              "</div>"
            ],
            "text/plain": [
              "  tracking_id             datetime  windmill_generated_power(kW/h)\n",
              "0    WM_33725  2019-08-04 14:33:20                        6.766521\n",
              "1      WM_698  2018-11-05 10:13:20                        5.966275\n",
              "2    WM_39146  2019-09-14 14:03:20                        2.874342\n",
              "3     WM_6757  2018-12-25 15:33:20                       14.851089\n",
              "4    WM_21521  2019-05-04 03:13:20                        3.519074"
            ]
          },
          "metadata": {
            "tags": []
          },
          "execution_count": 12
        }
      ]
    },
    {
      "cell_type": "code",
      "metadata": {
        "colab": {
          "base_uri": "https://localhost:8080/",
          "height": 204
        },
        "id": "rv7g6tBdtHD8",
        "outputId": "2306b7b3-e585-4e4f-8054-29e6d94ea129"
      },
      "source": [
        "submission_df = submission_df[0:0]\n",
        "submission_df['tracking_id'] = test_df['tracking_id']\n",
        "submission_df['datetime'] = test_df['datetime']\n",
        "\n",
        "submission_df.head()"
      ],
      "execution_count": 13,
      "outputs": [
        {
          "output_type": "execute_result",
          "data": {
            "text/html": [
              "<div>\n",
              "<style scoped>\n",
              "    .dataframe tbody tr th:only-of-type {\n",
              "        vertical-align: middle;\n",
              "    }\n",
              "\n",
              "    .dataframe tbody tr th {\n",
              "        vertical-align: top;\n",
              "    }\n",
              "\n",
              "    .dataframe thead th {\n",
              "        text-align: right;\n",
              "    }\n",
              "</style>\n",
              "<table border=\"1\" class=\"dataframe\">\n",
              "  <thead>\n",
              "    <tr style=\"text-align: right;\">\n",
              "      <th></th>\n",
              "      <th>tracking_id</th>\n",
              "      <th>datetime</th>\n",
              "      <th>windmill_generated_power(kW/h)</th>\n",
              "    </tr>\n",
              "  </thead>\n",
              "  <tbody>\n",
              "    <tr>\n",
              "      <th>0</th>\n",
              "      <td>WM_19817</td>\n",
              "      <td>2019-04-17 08:53:20</td>\n",
              "      <td>NaN</td>\n",
              "    </tr>\n",
              "    <tr>\n",
              "      <th>1</th>\n",
              "      <td>WM_18723</td>\n",
              "      <td>2019-03-30 07:43:20</td>\n",
              "      <td>NaN</td>\n",
              "    </tr>\n",
              "    <tr>\n",
              "      <th>2</th>\n",
              "      <td>WM_34552</td>\n",
              "      <td>2019-08-10 11:33:20</td>\n",
              "      <td>NaN</td>\n",
              "    </tr>\n",
              "    <tr>\n",
              "      <th>3</th>\n",
              "      <td>WM_28570</td>\n",
              "      <td>2019-06-26 03:53:20</td>\n",
              "      <td>NaN</td>\n",
              "    </tr>\n",
              "    <tr>\n",
              "      <th>4</th>\n",
              "      <td>WM_36934</td>\n",
              "      <td>2019-08-27 16:43:20</td>\n",
              "      <td>NaN</td>\n",
              "    </tr>\n",
              "  </tbody>\n",
              "</table>\n",
              "</div>"
            ],
            "text/plain": [
              "  tracking_id             datetime  windmill_generated_power(kW/h)\n",
              "0    WM_19817  2019-04-17 08:53:20                             NaN\n",
              "1    WM_18723  2019-03-30 07:43:20                             NaN\n",
              "2    WM_34552  2019-08-10 11:33:20                             NaN\n",
              "3    WM_28570  2019-06-26 03:53:20                             NaN\n",
              "4    WM_36934  2019-08-27 16:43:20                             NaN"
            ]
          },
          "metadata": {
            "tags": []
          },
          "execution_count": 13
        }
      ]
    },
    {
      "cell_type": "code",
      "metadata": {
        "id": "LKJ1w_gsr-ls"
      },
      "source": [
        "train_df.drop([\"tracking_id\",\"datetime\"],axis=1,inplace=True)\n",
        "test_df.drop([\"tracking_id\",\"datetime\"],axis=1,inplace=True)"
      ],
      "execution_count": 14,
      "outputs": []
    },
    {
      "cell_type": "code",
      "metadata": {
        "colab": {
          "base_uri": "https://localhost:8080/"
        },
        "id": "EyAlacIqr7Wd",
        "outputId": "e401e5f3-aa7b-4ffd-d7b8-d05090ea4df8"
      },
      "source": [
        "train_df.shape"
      ],
      "execution_count": 15,
      "outputs": [
        {
          "output_type": "execute_result",
          "data": {
            "text/plain": [
              "(28200, 20)"
            ]
          },
          "metadata": {
            "tags": []
          },
          "execution_count": 15
        }
      ]
    },
    {
      "cell_type": "code",
      "metadata": {
        "colab": {
          "base_uri": "https://localhost:8080/"
        },
        "id": "CZ3nqO7Rk1NC",
        "outputId": "d3bebdb5-7e03-4586-9e83-2a5b4e47fcc6"
      },
      "source": [
        "train_df.isna().sum()"
      ],
      "execution_count": 16,
      "outputs": [
        {
          "output_type": "execute_result",
          "data": {
            "text/plain": [
              "wind_speed(m/s)                    273\n",
              "atmospheric_temperature(°C)       3450\n",
              "shaft_temperature(°C)                2\n",
              "blades_angle(°)                    216\n",
              "gearbox_temperature(°C)              1\n",
              "engine_temperature(°C)              12\n",
              "motor_torque(N-m)                   24\n",
              "generator_temperature(°C)           12\n",
              "atmospheric_pressure(Pascal)      2707\n",
              "area_temperature(°C)                 0\n",
              "windmill_body_temperature(°C)     2363\n",
              "wind_direction(°)                 5103\n",
              "resistance(ohm)                      1\n",
              "rotor_torque(N-m)                  572\n",
              "turbine_status                    1759\n",
              "cloud_level                        276\n",
              "blade_length(m)                   5093\n",
              "blade_breadth(m)                     0\n",
              "windmill_height(m)                 543\n",
              "windmill_generated_power(kW/h)     207\n",
              "dtype: int64"
            ]
          },
          "metadata": {
            "tags": []
          },
          "execution_count": 16
        }
      ]
    },
    {
      "cell_type": "markdown",
      "metadata": {
        "id": "gL16EvIDFx7z"
      },
      "source": [
        "#### Dropping rows that dont have y label"
      ]
    },
    {
      "cell_type": "code",
      "metadata": {
        "id": "Va8nEXQk52PZ"
      },
      "source": [
        "train_df = train_df[train_df['windmill_generated_power(kW/h)'].notna()]"
      ],
      "execution_count": 17,
      "outputs": []
    },
    {
      "cell_type": "markdown",
      "metadata": {
        "id": "IgyXddv5K6p8"
      },
      "source": [
        "#### Checking null rows"
      ]
    },
    {
      "cell_type": "code",
      "metadata": {
        "colab": {
          "base_uri": "https://localhost:8080/"
        },
        "id": "HSHxKcW26EfA",
        "outputId": "2ae8d9f1-eee3-4b27-cdc7-406762319882"
      },
      "source": [
        "train_df.isna().sum()"
      ],
      "execution_count": 18,
      "outputs": [
        {
          "output_type": "execute_result",
          "data": {
            "text/plain": [
              "wind_speed(m/s)                    271\n",
              "atmospheric_temperature(°C)       3422\n",
              "shaft_temperature(°C)                2\n",
              "blades_angle(°)                    212\n",
              "gearbox_temperature(°C)              1\n",
              "engine_temperature(°C)              12\n",
              "motor_torque(N-m)                   24\n",
              "generator_temperature(°C)           12\n",
              "atmospheric_pressure(Pascal)      2690\n",
              "area_temperature(°C)                 0\n",
              "windmill_body_temperature(°C)     2352\n",
              "wind_direction(°)                 5058\n",
              "resistance(ohm)                      1\n",
              "rotor_torque(N-m)                  567\n",
              "turbine_status                    1747\n",
              "cloud_level                        272\n",
              "blade_length(m)                   5057\n",
              "blade_breadth(m)                     0\n",
              "windmill_height(m)                 538\n",
              "windmill_generated_power(kW/h)       0\n",
              "dtype: int64"
            ]
          },
          "metadata": {
            "tags": []
          },
          "execution_count": 18
        }
      ]
    },
    {
      "cell_type": "markdown",
      "metadata": {
        "id": "8YNpZxlrK-nV"
      },
      "source": [
        "#### Categorical to numeric coding"
      ]
    },
    {
      "cell_type": "code",
      "metadata": {
        "colab": {
          "base_uri": "https://localhost:8080/"
        },
        "id": "yO2OTOpNk1RY",
        "outputId": "f4f54e5e-14da-4447-fe17-5e163a9fa15b"
      },
      "source": [
        "# turbine_status\tcloud_level\n",
        "\n",
        "train_df['turbine_status'].unique()"
      ],
      "execution_count": 19,
      "outputs": [
        {
          "output_type": "execute_result",
          "data": {
            "text/plain": [
              "array(['BA', 'A2', 'ABC', 'AAA', 'BD', 'AC', 'BB', 'BCB', 'B', 'AB', nan,\n",
              "       'B2', 'BBB', 'A', 'D'], dtype=object)"
            ]
          },
          "metadata": {
            "tags": []
          },
          "execution_count": 19
        }
      ]
    },
    {
      "cell_type": "code",
      "metadata": {
        "colab": {
          "base_uri": "https://localhost:8080/"
        },
        "id": "9Uv1kuLqnjQg",
        "outputId": "670b7282-ddcb-4ab0-dec6-ee8080de57dc"
      },
      "source": [
        "turbine_mapping_dict = {}\n",
        "turbine_list = train_df['turbine_status'].unique().tolist()\n",
        "turbine_mapping_dict[turbine_list[10]] = turbine_list[10]\n",
        "turbine_list.pop(10)\n",
        "for i in range(len(turbine_list)):\n",
        "  turbine_mapping_dict[turbine_list[i]] = i+1\n",
        "\n",
        "turbine_mapping_dict"
      ],
      "execution_count": 20,
      "outputs": [
        {
          "output_type": "execute_result",
          "data": {
            "text/plain": [
              "{'A': 13,\n",
              " 'A2': 2,\n",
              " 'AAA': 4,\n",
              " 'AB': 10,\n",
              " 'ABC': 3,\n",
              " 'AC': 6,\n",
              " 'B': 9,\n",
              " 'B2': 11,\n",
              " 'BA': 1,\n",
              " 'BB': 7,\n",
              " 'BBB': 12,\n",
              " 'BCB': 8,\n",
              " 'BD': 5,\n",
              " 'D': 14,\n",
              " nan: nan}"
            ]
          },
          "metadata": {
            "tags": []
          },
          "execution_count": 20
        }
      ]
    },
    {
      "cell_type": "code",
      "metadata": {
        "id": "ifZbO6AMk1V0"
      },
      "source": [
        "train_df['turbine_status'] = train_df['turbine_status'].map(turbine_mapping_dict)\n",
        "test_df['turbine_status'] = test_df['turbine_status'].map(turbine_mapping_dict)"
      ],
      "execution_count": 21,
      "outputs": []
    },
    {
      "cell_type": "code",
      "metadata": {
        "colab": {
          "base_uri": "https://localhost:8080/"
        },
        "id": "8mEmdYQwk1aO",
        "outputId": "b414d142-99a0-498a-c60d-2cebb95876e2"
      },
      "source": [
        "train_df['cloud_level'].unique()"
      ],
      "execution_count": 22,
      "outputs": [
        {
          "output_type": "execute_result",
          "data": {
            "text/plain": [
              "array(['Medium', nan, 'Low', 'Extremely Low'], dtype=object)"
            ]
          },
          "metadata": {
            "tags": []
          },
          "execution_count": 22
        }
      ]
    },
    {
      "cell_type": "code",
      "metadata": {
        "colab": {
          "base_uri": "https://localhost:8080/"
        },
        "id": "MLsl402_rI9X",
        "outputId": "863ee01d-6722-4894-e312-c236f4e18f58"
      },
      "source": [
        "cloud_level_mapping_dict = {}\n",
        "\n",
        "cloud_list = train_df['cloud_level'].unique().tolist()\n",
        "cloud_level_mapping_dict[cloud_list[1]] = cloud_list[1]\n",
        "cloud_list.pop(1)\n",
        "for i in range(len(cloud_list)):\n",
        "  cloud_level_mapping_dict[cloud_list[i]] = i+1\n",
        "\n",
        "cloud_level_mapping_dict"
      ],
      "execution_count": 23,
      "outputs": [
        {
          "output_type": "execute_result",
          "data": {
            "text/plain": [
              "{'Extremely Low': 3, 'Low': 2, 'Medium': 1, nan: nan}"
            ]
          },
          "metadata": {
            "tags": []
          },
          "execution_count": 23
        }
      ]
    },
    {
      "cell_type": "code",
      "metadata": {
        "id": "hOeUqCNKk1ep"
      },
      "source": [
        "train_df['cloud_level'] = train_df['cloud_level'].map(cloud_level_mapping_dict)\n",
        "test_df['cloud_level'] = test_df['cloud_level'].map(cloud_level_mapping_dict)"
      ],
      "execution_count": 24,
      "outputs": []
    },
    {
      "cell_type": "code",
      "metadata": {
        "colab": {
          "base_uri": "https://localhost:8080/",
          "height": 241
        },
        "id": "HoI1pbauk1j6",
        "outputId": "a060e584-6265-4cee-fc0d-7b4812c4e5eb"
      },
      "source": [
        "train_df.head()"
      ],
      "execution_count": 25,
      "outputs": [
        {
          "output_type": "execute_result",
          "data": {
            "text/html": [
              "<div>\n",
              "<style scoped>\n",
              "    .dataframe tbody tr th:only-of-type {\n",
              "        vertical-align: middle;\n",
              "    }\n",
              "\n",
              "    .dataframe tbody tr th {\n",
              "        vertical-align: top;\n",
              "    }\n",
              "\n",
              "    .dataframe thead th {\n",
              "        text-align: right;\n",
              "    }\n",
              "</style>\n",
              "<table border=\"1\" class=\"dataframe\">\n",
              "  <thead>\n",
              "    <tr style=\"text-align: right;\">\n",
              "      <th></th>\n",
              "      <th>wind_speed(m/s)</th>\n",
              "      <th>atmospheric_temperature(°C)</th>\n",
              "      <th>shaft_temperature(°C)</th>\n",
              "      <th>blades_angle(°)</th>\n",
              "      <th>gearbox_temperature(°C)</th>\n",
              "      <th>engine_temperature(°C)</th>\n",
              "      <th>motor_torque(N-m)</th>\n",
              "      <th>generator_temperature(°C)</th>\n",
              "      <th>atmospheric_pressure(Pascal)</th>\n",
              "      <th>area_temperature(°C)</th>\n",
              "      <th>windmill_body_temperature(°C)</th>\n",
              "      <th>wind_direction(°)</th>\n",
              "      <th>resistance(ohm)</th>\n",
              "      <th>rotor_torque(N-m)</th>\n",
              "      <th>turbine_status</th>\n",
              "      <th>cloud_level</th>\n",
              "      <th>blade_length(m)</th>\n",
              "      <th>blade_breadth(m)</th>\n",
              "      <th>windmill_height(m)</th>\n",
              "      <th>windmill_generated_power(kW/h)</th>\n",
              "    </tr>\n",
              "  </thead>\n",
              "  <tbody>\n",
              "    <tr>\n",
              "      <th>0</th>\n",
              "      <td>94.820023</td>\n",
              "      <td>-99.000000</td>\n",
              "      <td>41.723019</td>\n",
              "      <td>-0.903423</td>\n",
              "      <td>82.410573</td>\n",
              "      <td>42.523015</td>\n",
              "      <td>2563.124522</td>\n",
              "      <td>76.665560</td>\n",
              "      <td>103402.961872</td>\n",
              "      <td>26.897875</td>\n",
              "      <td>NaN</td>\n",
              "      <td>239.836388</td>\n",
              "      <td>2730.310605</td>\n",
              "      <td>42.084666</td>\n",
              "      <td>1.0</td>\n",
              "      <td>1.0</td>\n",
              "      <td>2.217542</td>\n",
              "      <td>0.314065</td>\n",
              "      <td>24.281689</td>\n",
              "      <td>6.766521</td>\n",
              "    </tr>\n",
              "    <tr>\n",
              "      <th>1</th>\n",
              "      <td>241.832734</td>\n",
              "      <td>27.764785</td>\n",
              "      <td>-99.000000</td>\n",
              "      <td>-99.000000</td>\n",
              "      <td>44.104919</td>\n",
              "      <td>46.258870</td>\n",
              "      <td>2372.384119</td>\n",
              "      <td>78.129803</td>\n",
              "      <td>17030.904078</td>\n",
              "      <td>39.801469</td>\n",
              "      <td>NaN</td>\n",
              "      <td>337.944723</td>\n",
              "      <td>1780.207200</td>\n",
              "      <td>107.888643</td>\n",
              "      <td>2.0</td>\n",
              "      <td>1.0</td>\n",
              "      <td>4.210346</td>\n",
              "      <td>0.448494</td>\n",
              "      <td>27.262139</td>\n",
              "      <td>5.966275</td>\n",
              "    </tr>\n",
              "    <tr>\n",
              "      <th>2</th>\n",
              "      <td>95.484724</td>\n",
              "      <td>NaN</td>\n",
              "      <td>41.855473</td>\n",
              "      <td>12.652763</td>\n",
              "      <td>42.322098</td>\n",
              "      <td>42.878552</td>\n",
              "      <td>1657.169646</td>\n",
              "      <td>67.654469</td>\n",
              "      <td>16125.927107</td>\n",
              "      <td>36.116065</td>\n",
              "      <td>45.033197</td>\n",
              "      <td>227.850294</td>\n",
              "      <td>1666.049900</td>\n",
              "      <td>-42.931459</td>\n",
              "      <td>3.0</td>\n",
              "      <td>1.0</td>\n",
              "      <td>2.719475</td>\n",
              "      <td>0.302321</td>\n",
              "      <td>27.366127</td>\n",
              "      <td>2.874342</td>\n",
              "    </tr>\n",
              "    <tr>\n",
              "      <th>3</th>\n",
              "      <td>238.819424</td>\n",
              "      <td>-99.000000</td>\n",
              "      <td>45.443914</td>\n",
              "      <td>15.115323</td>\n",
              "      <td>44.759643</td>\n",
              "      <td>47.282101</td>\n",
              "      <td>2888.134079</td>\n",
              "      <td>95.389974</td>\n",
              "      <td>18689.732336</td>\n",
              "      <td>46.020045</td>\n",
              "      <td>44.827154</td>\n",
              "      <td>492.081520</td>\n",
              "      <td>1964.502895</td>\n",
              "      <td>42.744596</td>\n",
              "      <td>3.0</td>\n",
              "      <td>NaN</td>\n",
              "      <td>4.857385</td>\n",
              "      <td>0.367140</td>\n",
              "      <td>24.287767</td>\n",
              "      <td>14.851089</td>\n",
              "    </tr>\n",
              "    <tr>\n",
              "      <th>4</th>\n",
              "      <td>10.722890</td>\n",
              "      <td>NaN</td>\n",
              "      <td>41.981183</td>\n",
              "      <td>1.715696</td>\n",
              "      <td>-17.616459</td>\n",
              "      <td>43.469852</td>\n",
              "      <td>781.695419</td>\n",
              "      <td>37.423065</td>\n",
              "      <td>114468.169007</td>\n",
              "      <td>34.572941</td>\n",
              "      <td>-99.000000</td>\n",
              "      <td>259.274601</td>\n",
              "      <td>1177.516152</td>\n",
              "      <td>13.387289</td>\n",
              "      <td>4.0</td>\n",
              "      <td>1.0</td>\n",
              "      <td>NaN</td>\n",
              "      <td>0.453374</td>\n",
              "      <td>27.971650</td>\n",
              "      <td>3.519074</td>\n",
              "    </tr>\n",
              "  </tbody>\n",
              "</table>\n",
              "</div>"
            ],
            "text/plain": [
              "   wind_speed(m/s)  ...  windmill_generated_power(kW/h)\n",
              "0        94.820023  ...                        6.766521\n",
              "1       241.832734  ...                        5.966275\n",
              "2        95.484724  ...                        2.874342\n",
              "3       238.819424  ...                       14.851089\n",
              "4        10.722890  ...                        3.519074\n",
              "\n",
              "[5 rows x 20 columns]"
            ]
          },
          "metadata": {
            "tags": []
          },
          "execution_count": 25
        }
      ]
    },
    {
      "cell_type": "code",
      "metadata": {
        "colab": {
          "base_uri": "https://localhost:8080/",
          "height": 689
        },
        "id": "mUUxpVU8k1rM",
        "outputId": "ee116b7c-fccd-46fc-9c82-eb5fa7b6660e"
      },
      "source": [
        "train_df.describe().transpose()"
      ],
      "execution_count": 26,
      "outputs": [
        {
          "output_type": "execute_result",
          "data": {
            "text/html": [
              "<div>\n",
              "<style scoped>\n",
              "    .dataframe tbody tr th:only-of-type {\n",
              "        vertical-align: middle;\n",
              "    }\n",
              "\n",
              "    .dataframe tbody tr th {\n",
              "        vertical-align: top;\n",
              "    }\n",
              "\n",
              "    .dataframe thead th {\n",
              "        text-align: right;\n",
              "    }\n",
              "</style>\n",
              "<table border=\"1\" class=\"dataframe\">\n",
              "  <thead>\n",
              "    <tr style=\"text-align: right;\">\n",
              "      <th></th>\n",
              "      <th>count</th>\n",
              "      <th>mean</th>\n",
              "      <th>std</th>\n",
              "      <th>min</th>\n",
              "      <th>25%</th>\n",
              "      <th>50%</th>\n",
              "      <th>75%</th>\n",
              "      <th>max</th>\n",
              "    </tr>\n",
              "  </thead>\n",
              "  <tbody>\n",
              "    <tr>\n",
              "      <th>wind_speed(m/s)</th>\n",
              "      <td>27722.0</td>\n",
              "      <td>69.032217</td>\n",
              "      <td>76.328773</td>\n",
              "      <td>-4.962110e+02</td>\n",
              "      <td>20.874363</td>\n",
              "      <td>93.298798</td>\n",
              "      <td>95.268345</td>\n",
              "      <td>6.014557e+02</td>\n",
              "    </tr>\n",
              "    <tr>\n",
              "      <th>atmospheric_temperature(°C)</th>\n",
              "      <td>24571.0</td>\n",
              "      <td>0.371184</td>\n",
              "      <td>44.282582</td>\n",
              "      <td>-9.900000e+01</td>\n",
              "      <td>7.945627</td>\n",
              "      <td>16.105033</td>\n",
              "      <td>23.685345</td>\n",
              "      <td>8.021744e+01</td>\n",
              "    </tr>\n",
              "    <tr>\n",
              "      <th>shaft_temperature(°C)</th>\n",
              "      <td>27991.0</td>\n",
              "      <td>40.078707</td>\n",
              "      <td>27.196820</td>\n",
              "      <td>-9.900000e+01</td>\n",
              "      <td>41.633454</td>\n",
              "      <td>43.684350</td>\n",
              "      <td>45.672836</td>\n",
              "      <td>1.698205e+02</td>\n",
              "    </tr>\n",
              "    <tr>\n",
              "      <th>blades_angle(°)</th>\n",
              "      <td>27781.0</td>\n",
              "      <td>-9.656611</td>\n",
              "      <td>47.918442</td>\n",
              "      <td>-1.462595e+02</td>\n",
              "      <td>-1.197580</td>\n",
              "      <td>-0.496836</td>\n",
              "      <td>5.483500</td>\n",
              "      <td>1.659321e+02</td>\n",
              "    </tr>\n",
              "    <tr>\n",
              "      <th>gearbox_temperature(°C)</th>\n",
              "      <td>27992.0</td>\n",
              "      <td>41.003447</td>\n",
              "      <td>43.682029</td>\n",
              "      <td>-2.449741e+02</td>\n",
              "      <td>40.555872</td>\n",
              "      <td>43.219198</td>\n",
              "      <td>45.874781</td>\n",
              "      <td>9.990000e+02</td>\n",
              "    </tr>\n",
              "    <tr>\n",
              "      <th>engine_temperature(°C)</th>\n",
              "      <td>27981.0</td>\n",
              "      <td>42.609963</td>\n",
              "      <td>6.131895</td>\n",
              "      <td>3.167151e+00</td>\n",
              "      <td>41.911875</td>\n",
              "      <td>43.525221</td>\n",
              "      <td>45.169599</td>\n",
              "      <td>5.000000e+01</td>\n",
              "    </tr>\n",
              "    <tr>\n",
              "      <th>motor_torque(N-m)</th>\n",
              "      <td>27969.0</td>\n",
              "      <td>1710.444006</td>\n",
              "      <td>826.950553</td>\n",
              "      <td>5.000000e+02</td>\n",
              "      <td>870.298241</td>\n",
              "      <td>2031.627043</td>\n",
              "      <td>2461.047836</td>\n",
              "      <td>3.000000e+03</td>\n",
              "    </tr>\n",
              "    <tr>\n",
              "      <th>generator_temperature(°C)</th>\n",
              "      <td>27981.0</td>\n",
              "      <td>65.014574</td>\n",
              "      <td>19.810115</td>\n",
              "      <td>3.389378e+01</td>\n",
              "      <td>41.195203</td>\n",
              "      <td>70.718938</td>\n",
              "      <td>78.923776</td>\n",
              "      <td>1.000000e+02</td>\n",
              "    </tr>\n",
              "    <tr>\n",
              "      <th>atmospheric_pressure(Pascal)</th>\n",
              "      <td>25303.0</td>\n",
              "      <td>53048.942126</td>\n",
              "      <td>187420.927920</td>\n",
              "      <td>-1.188624e+06</td>\n",
              "      <td>16793.129156</td>\n",
              "      <td>18187.487632</td>\n",
              "      <td>118087.881568</td>\n",
              "      <td>1.272552e+06</td>\n",
              "    </tr>\n",
              "    <tr>\n",
              "      <th>area_temperature(°C)</th>\n",
              "      <td>27993.0</td>\n",
              "      <td>32.728987</td>\n",
              "      <td>7.703850</td>\n",
              "      <td>-3.000000e+01</td>\n",
              "      <td>27.311681</td>\n",
              "      <td>32.592784</td>\n",
              "      <td>38.213333</td>\n",
              "      <td>5.500000e+01</td>\n",
              "    </tr>\n",
              "    <tr>\n",
              "      <th>windmill_body_temperature(°C)</th>\n",
              "      <td>25641.0</td>\n",
              "      <td>20.767246</td>\n",
              "      <td>54.389085</td>\n",
              "      <td>-9.990000e+02</td>\n",
              "      <td>40.440842</td>\n",
              "      <td>42.785951</td>\n",
              "      <td>44.493288</td>\n",
              "      <td>3.230000e+02</td>\n",
              "    </tr>\n",
              "    <tr>\n",
              "      <th>wind_direction(°)</th>\n",
              "      <td>22935.0</td>\n",
              "      <td>306.721006</td>\n",
              "      <td>133.904788</td>\n",
              "      <td>0.000000e+00</td>\n",
              "      <td>238.621772</td>\n",
              "      <td>271.364338</td>\n",
              "      <td>402.348812</td>\n",
              "      <td>5.699665e+02</td>\n",
              "    </tr>\n",
              "    <tr>\n",
              "      <th>resistance(ohm)</th>\n",
              "      <td>27992.0</td>\n",
              "      <td>1575.442320</td>\n",
              "      <td>483.401891</td>\n",
              "      <td>-1.005223e+03</td>\n",
              "      <td>1267.665758</td>\n",
              "      <td>1678.245318</td>\n",
              "      <td>1828.587529</td>\n",
              "      <td>4.693482e+03</td>\n",
              "    </tr>\n",
              "    <tr>\n",
              "      <th>rotor_torque(N-m)</th>\n",
              "      <td>27426.0</td>\n",
              "      <td>25.848261</td>\n",
              "      <td>32.432486</td>\n",
              "      <td>-1.367322e+02</td>\n",
              "      <td>13.721929</td>\n",
              "      <td>32.974398</td>\n",
              "      <td>41.534980</td>\n",
              "      <td>2.368833e+02</td>\n",
              "    </tr>\n",
              "    <tr>\n",
              "      <th>turbine_status</th>\n",
              "      <td>26246.0</td>\n",
              "      <td>7.527852</td>\n",
              "      <td>4.025037</td>\n",
              "      <td>1.000000e+00</td>\n",
              "      <td>4.000000</td>\n",
              "      <td>8.000000</td>\n",
              "      <td>11.000000</td>\n",
              "      <td>1.400000e+01</td>\n",
              "    </tr>\n",
              "    <tr>\n",
              "      <th>cloud_level</th>\n",
              "      <td>27721.0</td>\n",
              "      <td>1.520255</td>\n",
              "      <td>0.520741</td>\n",
              "      <td>1.000000e+00</td>\n",
              "      <td>1.000000</td>\n",
              "      <td>2.000000</td>\n",
              "      <td>2.000000</td>\n",
              "      <td>3.000000e+00</td>\n",
              "    </tr>\n",
              "    <tr>\n",
              "      <th>blade_length(m)</th>\n",
              "      <td>22936.0</td>\n",
              "      <td>2.248762</td>\n",
              "      <td>11.295989</td>\n",
              "      <td>-9.900000e+01</td>\n",
              "      <td>2.544751</td>\n",
              "      <td>3.454550</td>\n",
              "      <td>4.357162</td>\n",
              "      <td>1.820980e+01</td>\n",
              "    </tr>\n",
              "    <tr>\n",
              "      <th>blade_breadth(m)</th>\n",
              "      <td>27993.0</td>\n",
              "      <td>0.397247</td>\n",
              "      <td>0.061210</td>\n",
              "      <td>2.001110e-01</td>\n",
              "      <td>0.347345</td>\n",
              "      <td>0.398587</td>\n",
              "      <td>0.449440</td>\n",
              "      <td>4.999753e-01</td>\n",
              "    </tr>\n",
              "    <tr>\n",
              "      <th>windmill_height(m)</th>\n",
              "      <td>27455.0</td>\n",
              "      <td>25.883697</td>\n",
              "      <td>7.770005</td>\n",
              "      <td>-3.029525e+01</td>\n",
              "      <td>24.447446</td>\n",
              "      <td>25.957495</td>\n",
              "      <td>27.476933</td>\n",
              "      <td>7.835134e+01</td>\n",
              "    </tr>\n",
              "    <tr>\n",
              "      <th>windmill_generated_power(kW/h)</th>\n",
              "      <td>27993.0</td>\n",
              "      <td>6.130529</td>\n",
              "      <td>2.697520</td>\n",
              "      <td>9.623049e-01</td>\n",
              "      <td>4.059505</td>\n",
              "      <td>5.764710</td>\n",
              "      <td>7.947195</td>\n",
              "      <td>2.017536e+01</td>\n",
              "    </tr>\n",
              "  </tbody>\n",
              "</table>\n",
              "</div>"
            ],
            "text/plain": [
              "                                  count  ...           max\n",
              "wind_speed(m/s)                 27722.0  ...  6.014557e+02\n",
              "atmospheric_temperature(°C)     24571.0  ...  8.021744e+01\n",
              "shaft_temperature(°C)           27991.0  ...  1.698205e+02\n",
              "blades_angle(°)                 27781.0  ...  1.659321e+02\n",
              "gearbox_temperature(°C)         27992.0  ...  9.990000e+02\n",
              "engine_temperature(°C)          27981.0  ...  5.000000e+01\n",
              "motor_torque(N-m)               27969.0  ...  3.000000e+03\n",
              "generator_temperature(°C)       27981.0  ...  1.000000e+02\n",
              "atmospheric_pressure(Pascal)    25303.0  ...  1.272552e+06\n",
              "area_temperature(°C)            27993.0  ...  5.500000e+01\n",
              "windmill_body_temperature(°C)   25641.0  ...  3.230000e+02\n",
              "wind_direction(°)               22935.0  ...  5.699665e+02\n",
              "resistance(ohm)                 27992.0  ...  4.693482e+03\n",
              "rotor_torque(N-m)               27426.0  ...  2.368833e+02\n",
              "turbine_status                  26246.0  ...  1.400000e+01\n",
              "cloud_level                     27721.0  ...  3.000000e+00\n",
              "blade_length(m)                 22936.0  ...  1.820980e+01\n",
              "blade_breadth(m)                27993.0  ...  4.999753e-01\n",
              "windmill_height(m)              27455.0  ...  7.835134e+01\n",
              "windmill_generated_power(kW/h)  27993.0  ...  2.017536e+01\n",
              "\n",
              "[20 rows x 8 columns]"
            ]
          },
          "metadata": {
            "tags": []
          },
          "execution_count": 26
        }
      ]
    },
    {
      "cell_type": "code",
      "metadata": {
        "id": "93Q5M_1NtsnS"
      },
      "source": [
        "train_features = train_df.copy()\n",
        "test_features = test_df.copy()\n",
        "\n",
        "train_labels = train_features.pop('windmill_generated_power(kW/h)')\n",
        "test_labels = [0 for i in range(test_df.shape[0])] #fake data"
      ],
      "execution_count": 27,
      "outputs": []
    },
    {
      "cell_type": "code",
      "metadata": {
        "id": "FD-LN_TjwwVi"
      },
      "source": [
        "train_labels = np.array(train_labels)"
      ],
      "execution_count": 28,
      "outputs": []
    },
    {
      "cell_type": "code",
      "metadata": {
        "colab": {
          "base_uri": "https://localhost:8080/"
        },
        "id": "fmSTO56lwb2E",
        "outputId": "7b70f8de-3d99-4fce-ce0a-2714aedcf404"
      },
      "source": [
        "# To calculate mean use imputer class\n",
        "from sklearn.impute import SimpleImputer\n",
        "imputer = SimpleImputer(missing_values=np.nan, strategy='mean')\n",
        "imputer = imputer.fit(np.array(train_features))\n",
        "  \n",
        "train_features = imputer.transform(train_features)\n",
        "test_features = imputer.transform(test_features)\n",
        "\n",
        "print(train_features)"
      ],
      "execution_count": 29,
      "outputs": [
        {
          "output_type": "stream",
          "text": [
            "[[ 94.82002337 -99.          41.72301901 ...   2.21754164   0.31406484\n",
            "   24.28168894]\n",
            " [241.83273424  27.76478479 -99.         ...   4.2103463    0.44849442\n",
            "   27.2621387 ]\n",
            " [ 95.48472432   0.37118411  41.85547319 ...   2.71947498   0.302321\n",
            "   27.36612718]\n",
            " ...\n",
            " [ 94.16046347  28.6742957   45.00421329 ...   2.24876171   0.38026434\n",
            "   28.53384966]\n",
            " [ 95.43037721  26.56025356  48.03262438 ...   3.00185467   0.34644747\n",
            "   47.74726911]\n",
            " [ 43.55835211  18.72123086   9.22020818 ...   2.24876171   0.38885471\n",
            "   24.12540827]]\n"
          ],
          "name": "stdout"
        }
      ]
    },
    {
      "cell_type": "code",
      "metadata": {
        "id": "om9sPNB5tsui"
      },
      "source": [
        "normalizer = preprocessing.Normalization()"
      ],
      "execution_count": 30,
      "outputs": []
    },
    {
      "cell_type": "code",
      "metadata": {
        "id": "eG67lG9Htsyy"
      },
      "source": [
        "normalizer.adapt(train_features)"
      ],
      "execution_count": 31,
      "outputs": []
    },
    {
      "cell_type": "code",
      "metadata": {
        "colab": {
          "base_uri": "https://localhost:8080/"
        },
        "id": "bYzrp2Osts-S",
        "outputId": "5917a9c7-115a-4420-f990-281046ece414"
      },
      "source": [
        "print(normalizer.mean.numpy())"
      ],
      "execution_count": 32,
      "outputs": [
        {
          "output_type": "stream",
          "text": [
            "[ 6.9032288e+01  3.7118429e-01  4.0078770e+01 -9.6566048e+00\n",
            "  4.1003448e+01  4.2609966e+01  1.7104445e+03  6.5014549e+01\n",
            "  5.3048965e+04  3.2729019e+01  2.0767244e+01  3.0672156e+02\n",
            "  1.5754417e+03  2.5848269e+01  7.5278530e+00  1.5202560e+00\n",
            "  2.2487631e+00  3.9724669e-01  2.5883698e+01]\n"
          ],
          "name": "stdout"
        }
      ]
    },
    {
      "cell_type": "code",
      "metadata": {
        "id": "CBCnMrEEXnGG"
      },
      "source": [
        "# [i for i in train_labels if i<2]"
      ],
      "execution_count": 126,
      "outputs": []
    },
    {
      "cell_type": "code",
      "metadata": {
        "colab": {
          "base_uri": "https://localhost:8080/"
        },
        "id": "VZ51KRCwu3Hr",
        "outputId": "abc39bea-246a-4be4-d359-483747b64e62"
      },
      "source": [
        "def mapping_to_target_range(x, target_min=1, target_max=20) :\n",
        "    x02 = tf.keras.backend.tanh(x) + 1 # x in range(0,2)\n",
        "    scale = ( target_max-target_min )/2.\n",
        "    return  x02 * scale + target_min\n",
        "\n",
        "\n",
        "linear_model = tf.keras.Sequential([\n",
        "    normalizer,\n",
        "    tf.keras.layers.Dense(64, activation='relu'),\n",
        "    tf.keras.layers.Dropout(0.2),\n",
        "    tf.keras.layers.Dense(32, activation='relu'),\n",
        "    # tf.keras.layers.Dense(64, activation='elu',\n",
        "    #              kernel_regularizer=tf.keras.regularizers.l2(0.001)),\n",
        "    # tf.keras.layers.Dropout(0.5),\n",
        "    # tf.keras.layers.Dense(64, activation='elu',\n",
        "    #              kernel_regularizer=tf.keras.regularizers.l2(0.001)),\n",
        "    # tf.keras.layers.Dropout(0.5),\n",
        "    # tf.keras.layers.Dense(32, activation='elu',\n",
        "    #              kernel_regularizer=tf.keras.regularizers.l2(0.001)),\n",
        "    # tf.keras.layers.Dropout(0.2),\n",
        "    tf.keras.layers.Dense(1,activation=mapping_to_target_range )\n",
        "\n",
        "])\n",
        "\n",
        "linear_model.compile(\n",
        "    optimizer= tf.optimizers.Adam(learning_rate=0.01), #tf.keras.optimizers.RMSprop(0.001),\n",
        "    loss=\"mean_squared_error\", # mean_absolute_error,\"mean_squared_error\"\n",
        "    ) \n",
        "\n",
        "linear_model.summary()"
      ],
      "execution_count": 158,
      "outputs": [
        {
          "output_type": "stream",
          "text": [
            "Model: \"sequential_24\"\n",
            "_________________________________________________________________\n",
            "Layer (type)                 Output Shape              Param #   \n",
            "=================================================================\n",
            "normalization (Normalization (None, 19)                39        \n",
            "_________________________________________________________________\n",
            "dense_92 (Dense)             (None, 64)                1280      \n",
            "_________________________________________________________________\n",
            "dropout_46 (Dropout)         (None, 64)                0         \n",
            "_________________________________________________________________\n",
            "dense_93 (Dense)             (None, 32)                2080      \n",
            "_________________________________________________________________\n",
            "dense_94 (Dense)             (None, 1)                 33        \n",
            "=================================================================\n",
            "Total params: 3,432\n",
            "Trainable params: 3,393\n",
            "Non-trainable params: 39\n",
            "_________________________________________________________________\n"
          ],
          "name": "stdout"
        }
      ]
    },
    {
      "cell_type": "code",
      "metadata": {
        "colab": {
          "base_uri": "https://localhost:8080/"
        },
        "id": "hrV4HxkBw6qV",
        "outputId": "5d7aaffd-bbb1-41ac-e0ea-13184d1404a3"
      },
      "source": [
        "linear_model.predict(train_features[:10])"
      ],
      "execution_count": 159,
      "outputs": [
        {
          "output_type": "execute_result",
          "data": {
            "text/plain": [
              "array([[4.4372163],\n",
              "       [2.815877 ],\n",
              "       [9.785452 ],\n",
              "       [3.0539074],\n",
              "       [4.033164 ],\n",
              "       [4.95146  ],\n",
              "       [3.4932487],\n",
              "       [6.82782  ],\n",
              "       [2.2253675],\n",
              "       [3.9257998]], dtype=float32)"
            ]
          },
          "metadata": {
            "tags": []
          },
          "execution_count": 159
        }
      ]
    },
    {
      "cell_type": "code",
      "metadata": {
        "colab": {
          "base_uri": "https://localhost:8080/"
        },
        "id": "E9uJtK8UvOCs",
        "outputId": "696fba91-52f2-4a9d-db46-698b73a19f65"
      },
      "source": [
        "%%time\n",
        "epochs = 500\n",
        "\n",
        "callback = tf.keras.callbacks.EarlyStopping(monitor='val_loss', patience=30)\n",
        "\n",
        "reduce_lr = tf.keras.callbacks.ReduceLROnPlateau(monitor='val_loss', factor=0.2,\n",
        "                              patience=10, min_lr=0.0001)\n",
        "\n",
        "history = linear_model.fit(\n",
        "    train_features, train_labels, \n",
        "    epochs=epochs,\n",
        "    # suppress logging\n",
        "    verbose=1,\n",
        "    batch_size=512,\n",
        "    # Calculate validation results on 20% of the training data\n",
        "    validation_split = 0.2,\n",
        "    callbacks=[callback,reduce_lr])"
      ],
      "execution_count": 160,
      "outputs": [
        {
          "output_type": "stream",
          "text": [
            "Epoch 1/500\n",
            "44/44 [==============================] - 1s 7ms/step - loss: 5.4034 - val_loss: 2.8985\n",
            "Epoch 2/500\n",
            "44/44 [==============================] - 0s 4ms/step - loss: 2.7223 - val_loss: 1.9081\n",
            "Epoch 3/500\n",
            "44/44 [==============================] - 0s 4ms/step - loss: 2.0300 - val_loss: 1.5646\n",
            "Epoch 4/500\n",
            "44/44 [==============================] - 0s 3ms/step - loss: 1.7801 - val_loss: 1.4966\n",
            "Epoch 5/500\n",
            "44/44 [==============================] - 0s 4ms/step - loss: 1.5892 - val_loss: 1.2802\n",
            "Epoch 6/500\n",
            "44/44 [==============================] - 0s 3ms/step - loss: 1.4516 - val_loss: 1.1405\n",
            "Epoch 7/500\n",
            "44/44 [==============================] - 0s 4ms/step - loss: 1.2874 - val_loss: 1.0153\n",
            "Epoch 8/500\n",
            "44/44 [==============================] - 0s 3ms/step - loss: 1.1152 - val_loss: 0.9549\n",
            "Epoch 9/500\n",
            "44/44 [==============================] - 0s 3ms/step - loss: 1.0468 - val_loss: 0.9335\n",
            "Epoch 10/500\n",
            "44/44 [==============================] - 0s 4ms/step - loss: 0.9806 - val_loss: 1.0813\n",
            "Epoch 11/500\n",
            "44/44 [==============================] - 0s 3ms/step - loss: 0.8892 - val_loss: 0.8957\n",
            "Epoch 12/500\n",
            "44/44 [==============================] - 0s 3ms/step - loss: 0.8210 - val_loss: 0.9764\n",
            "Epoch 13/500\n",
            "44/44 [==============================] - 0s 3ms/step - loss: 0.8277 - val_loss: 0.9916\n",
            "Epoch 14/500\n",
            "44/44 [==============================] - 0s 4ms/step - loss: 0.7824 - val_loss: 0.8804\n",
            "Epoch 15/500\n",
            "44/44 [==============================] - 0s 3ms/step - loss: 0.7631 - val_loss: 0.7479\n",
            "Epoch 16/500\n",
            "44/44 [==============================] - 0s 4ms/step - loss: 0.7626 - val_loss: 0.8520\n",
            "Epoch 17/500\n",
            "44/44 [==============================] - 0s 3ms/step - loss: 0.7147 - val_loss: 1.0067\n",
            "Epoch 18/500\n",
            "44/44 [==============================] - 0s 4ms/step - loss: 0.7068 - val_loss: 0.9941\n",
            "Epoch 19/500\n",
            "44/44 [==============================] - 0s 3ms/step - loss: 0.7002 - val_loss: 1.1185\n",
            "Epoch 20/500\n",
            "44/44 [==============================] - 0s 4ms/step - loss: 0.6775 - val_loss: 1.0854\n",
            "Epoch 21/500\n",
            "44/44 [==============================] - 0s 3ms/step - loss: 0.6993 - val_loss: 1.1504\n",
            "Epoch 22/500\n",
            "44/44 [==============================] - 0s 3ms/step - loss: 0.6944 - val_loss: 1.0204\n",
            "Epoch 23/500\n",
            "44/44 [==============================] - 0s 3ms/step - loss: 0.6615 - val_loss: 1.0379\n",
            "Epoch 24/500\n",
            "44/44 [==============================] - 0s 4ms/step - loss: 0.6743 - val_loss: 0.9298\n",
            "Epoch 25/500\n",
            "44/44 [==============================] - 0s 3ms/step - loss: 0.6374 - val_loss: 1.0544\n",
            "Epoch 26/500\n",
            "44/44 [==============================] - 0s 4ms/step - loss: 0.5869 - val_loss: 0.8895\n",
            "Epoch 27/500\n",
            "44/44 [==============================] - 0s 3ms/step - loss: 0.5381 - val_loss: 0.9113\n",
            "Epoch 28/500\n",
            "44/44 [==============================] - 0s 3ms/step - loss: 0.5332 - val_loss: 0.9544\n",
            "Epoch 29/500\n",
            "44/44 [==============================] - 0s 4ms/step - loss: 0.5354 - val_loss: 1.0384\n",
            "Epoch 30/500\n",
            "44/44 [==============================] - 0s 4ms/step - loss: 0.5160 - val_loss: 0.8525\n",
            "Epoch 31/500\n",
            "44/44 [==============================] - 0s 4ms/step - loss: 0.5185 - val_loss: 0.9977\n",
            "Epoch 32/500\n",
            "44/44 [==============================] - 0s 3ms/step - loss: 0.5306 - val_loss: 0.9033\n",
            "Epoch 33/500\n",
            "44/44 [==============================] - 0s 4ms/step - loss: 0.5126 - val_loss: 1.0034\n",
            "Epoch 34/500\n",
            "44/44 [==============================] - 0s 3ms/step - loss: 0.5178 - val_loss: 0.9594\n",
            "Epoch 35/500\n",
            "44/44 [==============================] - 0s 4ms/step - loss: 0.5113 - val_loss: 0.9128\n",
            "Epoch 36/500\n",
            "44/44 [==============================] - 0s 3ms/step - loss: 0.4990 - val_loss: 0.9504\n",
            "Epoch 37/500\n",
            "44/44 [==============================] - 0s 3ms/step - loss: 0.4906 - val_loss: 0.9646\n",
            "Epoch 38/500\n",
            "44/44 [==============================] - 0s 3ms/step - loss: 0.5002 - val_loss: 0.9387\n",
            "Epoch 39/500\n",
            "44/44 [==============================] - 0s 4ms/step - loss: 0.4941 - val_loss: 0.9402\n",
            "Epoch 40/500\n",
            "44/44 [==============================] - 0s 3ms/step - loss: 0.4848 - val_loss: 0.9810\n",
            "Epoch 41/500\n",
            "44/44 [==============================] - 0s 4ms/step - loss: 0.4839 - val_loss: 0.9414\n",
            "Epoch 42/500\n",
            "44/44 [==============================] - 0s 4ms/step - loss: 0.4934 - val_loss: 0.9749\n",
            "Epoch 43/500\n",
            "44/44 [==============================] - 0s 3ms/step - loss: 0.4923 - val_loss: 0.9623\n",
            "Epoch 44/500\n",
            "44/44 [==============================] - 0s 4ms/step - loss: 0.4978 - val_loss: 0.9633\n",
            "Epoch 45/500\n",
            "44/44 [==============================] - 0s 3ms/step - loss: 0.4962 - val_loss: 1.0264\n",
            "CPU times: user 8.42 s, sys: 1.24 s, total: 9.66 s\n",
            "Wall time: 7.84 s\n"
          ],
          "name": "stdout"
        }
      ]
    },
    {
      "cell_type": "code",
      "metadata": {
        "colab": {
          "base_uri": "https://localhost:8080/",
          "height": 283
        },
        "id": "u8vwUtDfvq75",
        "outputId": "b89610d7-c99d-43b9-c6d4-f758b716d6fd"
      },
      "source": [
        "plot_loss(history)"
      ],
      "execution_count": 151,
      "outputs": [
        {
          "output_type": "display_data",
          "data": {
            "image/png": "[encoded data removed]",
            "text/plain": [
              "<Figure size 432x288 with 1 Axes>"
            ]
          },
          "metadata": {
            "tags": [],
            "needs_background": "light"
          }
        }
      ]
    },
    {
      "cell_type": "markdown",
      "metadata": {
        "id": "4Sb4my8l8lRs"
      },
      "source": [
        "Loss with RMSProp (lr = 0.0001) is \n",
        "Train loss 0.35617437958717346 and validation loss 0.3741430938243866\n",
        "\n",
        "Loss with Adam (lr = 0.01) is Train loss 0.33599042892456055 and validation loss 0.38122525811195374"
      ]
    },
    {
      "cell_type": "code",
      "metadata": {
        "colab": {
          "base_uri": "https://localhost:8080/"
        },
        "id": "n9kFr0xHvvxP",
        "outputId": "b6ecf09e-09d0-430b-85eb-75dddbbeb98b"
      },
      "source": [
        "print(f'Train loss {history.history[\"loss\"][-1]} and validation loss {history.history[\"val_loss\"][-1]}')"
      ],
      "execution_count": 131,
      "outputs": [
        {
          "output_type": "stream",
          "text": [
            "Train loss 0.19344621896743774 and validation loss 0.39341339468955994\n"
          ],
          "name": "stdout"
        }
      ]
    },
    {
      "cell_type": "code",
      "metadata": {
        "id": "i4CEv8yD8rzq"
      },
      "source": [
        "preds = linear_model.predict(test_features)"
      ],
      "execution_count": 132,
      "outputs": []
    },
    {
      "cell_type": "code",
      "metadata": {
        "colab": {
          "base_uri": "https://localhost:8080/",
          "height": 204
        },
        "id": "xfZGBdIN95bK",
        "outputId": "e7751250-5054-4021-f1f5-e4d0e99f2e71"
      },
      "source": [
        "submission_df.head()"
      ],
      "execution_count": 133,
      "outputs": [
        {
          "output_type": "execute_result",
          "data": {
            "text/html": [
              "<div>\n",
              "<style scoped>\n",
              "    .dataframe tbody tr th:only-of-type {\n",
              "        vertical-align: middle;\n",
              "    }\n",
              "\n",
              "    .dataframe tbody tr th {\n",
              "        vertical-align: top;\n",
              "    }\n",
              "\n",
              "    .dataframe thead th {\n",
              "        text-align: right;\n",
              "    }\n",
              "</style>\n",
              "<table border=\"1\" class=\"dataframe\">\n",
              "  <thead>\n",
              "    <tr style=\"text-align: right;\">\n",
              "      <th></th>\n",
              "      <th>tracking_id</th>\n",
              "      <th>datetime</th>\n",
              "      <th>windmill_generated_power(kW/h)</th>\n",
              "    </tr>\n",
              "  </thead>\n",
              "  <tbody>\n",
              "    <tr>\n",
              "      <th>0</th>\n",
              "      <td>WM_19817</td>\n",
              "      <td>2019-04-17 08:53:20</td>\n",
              "      <td>2.739417</td>\n",
              "    </tr>\n",
              "    <tr>\n",
              "      <th>1</th>\n",
              "      <td>WM_18723</td>\n",
              "      <td>2019-03-30 07:43:20</td>\n",
              "      <td>2.560947</td>\n",
              "    </tr>\n",
              "    <tr>\n",
              "      <th>2</th>\n",
              "      <td>WM_34552</td>\n",
              "      <td>2019-08-10 11:33:20</td>\n",
              "      <td>3.002323</td>\n",
              "    </tr>\n",
              "    <tr>\n",
              "      <th>3</th>\n",
              "      <td>WM_28570</td>\n",
              "      <td>2019-06-26 03:53:20</td>\n",
              "      <td>11.051835</td>\n",
              "    </tr>\n",
              "    <tr>\n",
              "      <th>4</th>\n",
              "      <td>WM_36934</td>\n",
              "      <td>2019-08-27 16:43:20</td>\n",
              "      <td>3.533112</td>\n",
              "    </tr>\n",
              "  </tbody>\n",
              "</table>\n",
              "</div>"
            ],
            "text/plain": [
              "  tracking_id             datetime  windmill_generated_power(kW/h)\n",
              "0    WM_19817  2019-04-17 08:53:20                        2.739417\n",
              "1    WM_18723  2019-03-30 07:43:20                        2.560947\n",
              "2    WM_34552  2019-08-10 11:33:20                        3.002323\n",
              "3    WM_28570  2019-06-26 03:53:20                       11.051835\n",
              "4    WM_36934  2019-08-27 16:43:20                        3.533112"
            ]
          },
          "metadata": {
            "tags": []
          },
          "execution_count": 133
        }
      ]
    },
    {
      "cell_type": "code",
      "metadata": {
        "colab": {
          "base_uri": "https://localhost:8080/",
          "height": 204
        },
        "id": "8rpUlusb_bS9",
        "outputId": "6850e268-695d-4f0b-ba2a-115806f61498"
      },
      "source": [
        "submission_df['windmill_generated_power(kW/h)'] = preds\n",
        "\n",
        "submission_df.head()"
      ],
      "execution_count": 134,
      "outputs": [
        {
          "output_type": "execute_result",
          "data": {
            "text/html": [
              "<div>\n",
              "<style scoped>\n",
              "    .dataframe tbody tr th:only-of-type {\n",
              "        vertical-align: middle;\n",
              "    }\n",
              "\n",
              "    .dataframe tbody tr th {\n",
              "        vertical-align: top;\n",
              "    }\n",
              "\n",
              "    .dataframe thead th {\n",
              "        text-align: right;\n",
              "    }\n",
              "</style>\n",
              "<table border=\"1\" class=\"dataframe\">\n",
              "  <thead>\n",
              "    <tr style=\"text-align: right;\">\n",
              "      <th></th>\n",
              "      <th>tracking_id</th>\n",
              "      <th>datetime</th>\n",
              "      <th>windmill_generated_power(kW/h)</th>\n",
              "    </tr>\n",
              "  </thead>\n",
              "  <tbody>\n",
              "    <tr>\n",
              "      <th>0</th>\n",
              "      <td>WM_19817</td>\n",
              "      <td>2019-04-17 08:53:20</td>\n",
              "      <td>2.625036</td>\n",
              "    </tr>\n",
              "    <tr>\n",
              "      <th>1</th>\n",
              "      <td>WM_18723</td>\n",
              "      <td>2019-03-30 07:43:20</td>\n",
              "      <td>2.722383</td>\n",
              "    </tr>\n",
              "    <tr>\n",
              "      <th>2</th>\n",
              "      <td>WM_34552</td>\n",
              "      <td>2019-08-10 11:33:20</td>\n",
              "      <td>3.409704</td>\n",
              "    </tr>\n",
              "    <tr>\n",
              "      <th>3</th>\n",
              "      <td>WM_28570</td>\n",
              "      <td>2019-06-26 03:53:20</td>\n",
              "      <td>6.967700</td>\n",
              "    </tr>\n",
              "    <tr>\n",
              "      <th>4</th>\n",
              "      <td>WM_36934</td>\n",
              "      <td>2019-08-27 16:43:20</td>\n",
              "      <td>4.058773</td>\n",
              "    </tr>\n",
              "  </tbody>\n",
              "</table>\n",
              "</div>"
            ],
            "text/plain": [
              "  tracking_id             datetime  windmill_generated_power(kW/h)\n",
              "0    WM_19817  2019-04-17 08:53:20                        2.625036\n",
              "1    WM_18723  2019-03-30 07:43:20                        2.722383\n",
              "2    WM_34552  2019-08-10 11:33:20                        3.409704\n",
              "3    WM_28570  2019-06-26 03:53:20                        6.967700\n",
              "4    WM_36934  2019-08-27 16:43:20                        4.058773"
            ]
          },
          "metadata": {
            "tags": []
          },
          "execution_count": 134
        }
      ]
    },
    {
      "cell_type": "code",
      "metadata": {
        "id": "ezQHbUumACaB"
      },
      "source": [
        "submission_df.to_csv('submission.csv',index=False)"
      ],
      "execution_count": 136,
      "outputs": []
    },
    {
      "cell_type": "code",
      "metadata": {
        "id": "rnKaWHSTANOl"
      },
      "source": [
        ""
      ],
      "execution_count": 41,
      "outputs": []
    }
  ]
}